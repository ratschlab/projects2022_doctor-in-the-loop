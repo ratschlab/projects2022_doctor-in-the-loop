{
 "cells": [
  {
   "cell_type": "code",
   "execution_count": 1,
   "metadata": {
    "collapsed": true
   },
   "outputs": [
    {
     "name": "stdout",
     "output_type": "stream",
     "text": [
      "Files already downloaded and verified\n"
     ]
    }
   ],
   "source": [
    "import torchvision\n",
    "import matplotlib.pyplot as plt\n",
    "import random\n",
    "import torchvision.transforms.functional as TF\n",
    "from PIL import Image\n",
    "import numpy as np\n",
    "train_data = torchvision.datasets.CIFAR10('./', train=True, download=True)\n"
   ]
  },
  {
   "cell_type": "code",
   "execution_count": 2,
   "outputs": [],
   "source": [
    "idx=37490\n",
    "original= train_data.data[idx]"
   ],
   "metadata": {
    "collapsed": false
   }
  },
  {
   "cell_type": "code",
   "execution_count": 23,
   "outputs": [],
   "source": [
    "def rotate_img(image, angle=None):\n",
    "    if angle is None:\n",
    "        angle = random.randint(-30, 30)\n",
    "    image = Image.fromarray(np.uint8(image)).convert('RGB')\n",
    "\n",
    "    image = TF.rotate(image, angle)\n",
    "    return image, angle\n",
    "\n",
    "def black_white(image):\n",
    "    original=image.copy()\n",
    "    image = Image.fromarray(np.uint8(image)).convert('RGB')\n",
    "    image= torchvision.transforms.Grayscale()(image)\n",
    "    return image, original\n",
    "\n",
    "def jigsaw(image):\n",
    "    jigsaw= image.copy()\n",
    "    quad1= image[:16, :16 ,:]\n",
    "    quad2= image[16:, :16, :]\n",
    "    quad3= image[:16, 16: ,:]\n",
    "    quad4= image[16:, 16:, :]\n",
    "\n",
    "    jigsaw[:16, :16 ,:]= quad4\n",
    "    jigsaw[16:, :16, :]= quad3\n",
    "    jigsaw[:16, 16: ,:]= quad2\n",
    "    jigsaw[16:, 16:, :]= quad1\n",
    "\n",
    "    return jigsaw, image\n"
   ],
   "metadata": {
    "collapsed": false
   }
  },
  {
   "cell_type": "code",
   "execution_count": 42,
   "outputs": [],
   "source": [
    "plt.imshow(original)\n",
    "# plt.title(\"Original\")\n",
    "plt.axis('off')\n",
    "plt.savefig(\"/Users/victoriabarenne/thesis_plots/ssl_plots/no_title/original.png\", bbox_inches='tight')\n",
    "plt.close()\n",
    "plt.imshow(original)\n",
    "# plt.title(\"Target\")\n",
    "plt.axis('off')\n",
    "plt.savefig(\"/Users/victoriabarenne/thesis_plots/ssl_plots/no_title/target.png\", bbox_inches='tight')\n",
    "plt.close()"
   ],
   "metadata": {
    "collapsed": false
   }
  },
  {
   "cell_type": "code",
   "execution_count": 43,
   "outputs": [],
   "source": [
    "input, output=jigsaw(original)\n",
    "plt.imshow(input)\n",
    "# plt.title(\"Input\")\n",
    "plt.axis('off')\n",
    "plt.savefig(\"/Users/victoriabarenne/thesis_plots/ssl_plots/no_title/jigsaw_input.png\", bbox_inches='tight')\n",
    "plt.close()"
   ],
   "metadata": {
    "collapsed": false
   }
  },
  {
   "cell_type": "code",
   "execution_count": 44,
   "outputs": [],
   "source": [
    "input, output= rotate_img(original, 90)\n",
    "plt.imshow(input)\n",
    "# plt.title(\"Input\")\n",
    "plt.axis('off')\n",
    "plt.savefig(\"/Users/victoriabarenne/thesis_plots/ssl_plots/no_title/rotation_input.png\", bbox_inches='tight')\n",
    "plt.close()"
   ],
   "metadata": {
    "collapsed": false
   }
  },
  {
   "cell_type": "code",
   "execution_count": 45,
   "outputs": [],
   "source": [
    "input, output= black_white(original)\n",
    "plt.imshow(input, cmap=\"gray\")\n",
    "# plt.title(\"Input\")\n",
    "plt.axis('off')\n",
    "plt.savefig(\"/Users/victoriabarenne/thesis_plots/ssl_plots/no_title/colorization_input.png\", bbox_inches='tight')\n",
    "plt.close()"
   ],
   "metadata": {
    "collapsed": false
   }
  },
  {
   "cell_type": "code",
   "execution_count": 48,
   "outputs": [
    {
     "data": {
      "text/plain": "<Figure size 640x480 with 1 Axes>",
      "image/png": "[encoded data removed]"
     },
     "metadata": {},
     "output_type": "display_data"
    }
   ],
   "source": [
    "for idx in [38, 512, 99, 2, 411, 9248, 3851, 491, 3999]:\n",
    "    original= train_data.data[idx]\n",
    "    plt.imshow(original)\n",
    "    # plt.title(\"Original\")\n",
    "    plt.axis('off')\n",
    "    plt.savefig(f\"/Users/victoriabarenne/thesis_plots/ssl_plots/no_title/{idx}.png\", bbox_inches='tight')\n"
   ],
   "metadata": {
    "collapsed": false
   }
  },
  {
   "cell_type": "code",
   "execution_count": null,
   "outputs": [],
   "source": [],
   "metadata": {
    "collapsed": false
   }
  }
 ],
 "metadata": {
  "kernelspec": {
   "display_name": "Python 3",
   "language": "python",
   "name": "python3"
  },
  "language_info": {
   "codemirror_mode": {
    "name": "ipython",
    "version": 2
   },
   "file_extension": ".py",
   "mimetype": "text/x-python",
   "name": "python",
   "nbconvert_exporter": "python",
   "pygments_lexer": "ipython2",
   "version": "2.7.6"
  }
 },
 "nbformat": 4,
 "nbformat_minor": 0
}
