{
 "cells": [
  {
   "cell_type": "code",
   "execution_count": 1,
   "metadata": {
    "collapsed": true
   },
   "outputs": [],
   "source": [
    "import numpy as np\n",
    "import pandas as pd\n",
    "import matplotlib.pyplot as plt\n",
    "import seaborn as sns\n",
    "from utils.data import get_data, get_run_path\n",
    "from datasets import CIFAR_simclr, ActiveDataset\n",
    "import os\n",
    "import matplotlib\n",
    "import scipy"
   ]
  },
  {
   "cell_type": "code",
   "execution_count": 2,
   "outputs": [],
   "source": [
    "# import shutil\n",
    "# root= \"/Users/victoriabarenne/thesis_experiments/pc_runs/\"\n",
    "# for subdir, dirs, files in os.walk(root):\n",
    "#     for file in files:\n",
    "#         if file in [\"pc_radiuses.npy\"]:\n",
    "#             a= np.load(subdir+\"/\"+file)\n",
    "#             print(a.shape)\n",
    "#\n",
    "#     # if len(files)<5 and len(subdir)>60:\n",
    "#         # split= subdir.split(\"/\")[-1]\n",
    "#         # split= split.split(\"_\")\n",
    "#         # n_epochs, gamma, sd= split[0], split[4][5:], split[-1]\n",
    "#            # np.save(subdir+ \"/\"+ file, a[0,:])\n",
    "#             # np.save(subdir+ \"/\"+ file, a[0,0])\n",
    "#             # os.rmdir(subdir)\n",
    "#\n",
    "#\n"
   ],
   "metadata": {
    "collapsed": false
   }
  },
  {
   "cell_type": "code",
   "execution_count": 3,
   "outputs": [],
   "source": [
    "# import shutil\n",
    "#\n",
    "# def get_new_dir_name(subdir):\n",
    "#     split_dir= subdir.split(\"/\")\n",
    "#     folder=split_dir[-1]\n",
    "#     n_epochs= folder.split(\"_\")[0]\n",
    "#     root= \"\"\n",
    "#     for chunk in split_dir[:-1]:\n",
    "#         root= root+chunk+\"/\"\n",
    "#     root =root+\"100\"\n",
    "#     split_subdir= split_dir[-1].split(\"_\")\n",
    "#     for chunk in split_subdir[1:]:\n",
    "#         root= root +\"_\"+ chunk\n",
    "#     return root\n",
    "#\n",
    "# for subdir, dirs, files in os.walk(\"/Users/victoriabarenne/thesis_experiments/toy_runs/\"):\n",
    "#     if len(files)>1:\n",
    "#         folder=subdir.split(\"/\")[-1]\n",
    "#         n_epochs= folder.split(\"_\")[0]\n",
    "#         if n_epochs!=\"100\":\n",
    "#             print(subdir, n_epochs)\n",
    "#             # print(get_new_dir_name(subdir))\n",
    "#             # shutil.move(subdir, get_new_dir_name(subdir))\n",
    "#\n"
   ],
   "metadata": {
    "collapsed": false
   }
  },
  {
   "cell_type": "code",
   "execution_count": 4,
   "outputs": [],
   "source": [
    "# for subdir, dirs, files in os.walk(\"/Users/victoriabarenne/thesis_experiments/pc_runs/cifar10/\"):\n",
    "#     if len(subdir)==63:\n",
    "#         n_epochs= subdir[58:61]\n",
    "#         sd= subdir[-1]\n",
    "#         new_name= f\"/Users/victoriabarenne/thesis_experiments/pc_runs/cifar10/{n_epochs}_0.95_{sd}\"\n",
    "#         os.rename(subdir, new_name)\n",
    "#     elif len(subdir)==64:\n",
    "#         n_epochs= subdir[58:62]\n",
    "#         sd= subdir[-1]\n",
    "#         new_name= f\"/Users/victoriabarenne/thesis_experiments/pc_runs/cifar10/{n_epochs}_0.95_{sd}\"\n",
    "#         os.rename(subdir, new_name)\n",
    "# for subdir, dirs, files in os.walk(\"/Users/victoriabarenne/thesis_experiments/pc_runs/cifar100/\"):\n",
    "#     if len(subdir)==64:\n",
    "#         n_epochs= subdir[59:62]\n",
    "#         sd= subdir[-1]\n",
    "#         new_name= f\"/Users/victoriabarenne/thesis_experiments/pc_runs/cifar100/{n_epochs}_0.95_{sd}\"\n",
    "#         os.rename(subdir, new_name)\n",
    "#     elif len(subdir)==65:\n",
    "#         n_epochs= subdir[59:63]\n",
    "#         sd= subdir[-1]\n",
    "#         new_name= f\"/Users/victoriabarenne/thesis_experiments/pc_runs/cifar100/{n_epochs}_0.95_{sd}\"\n",
    "#         os.rename(subdir, new_name)\n"
   ],
   "metadata": {
    "collapsed": false
   }
  },
  {
   "cell_type": "code",
   "execution_count": 5,
   "outputs": [],
   "source": [
    "def get_cifar_data(args):\n",
    "    dataset= CIFAR_simclr(args.dataset, args.n_epochs, train=True, cluster=False)\n",
    "    dataset_test= CIFAR_simclr(args.dataset, args.n_epochs, train=False, cluster=False)\n",
    "\n",
    "    eval_freq = np.concatenate((np.repeat(1, 100), np.repeat(2, 50),\n",
    "                                    np.repeat(5, 20), np.repeat(10, 20), np.repeat(20, 25),\n",
    "                                   np.repeat(50, 20), np.repeat(100,40),\n",
    "                                    np.repeat(200,20), np.repeat(500, 10))) #15000\n",
    "    if args.dataset==\"cifar100\":\n",
    "        eval_freq= np.concatenate((eval_freq, np.repeat(500, 20))) #25000\n",
    "    if args.budget==\"high\":\n",
    "        eval_freq= np.concatenate((eval_freq, np.repeat(500, 30))) # 30000 or 40000\n",
    "\n",
    "    if args.budget==\"full\":\n",
    "        eval_freq= np.concatenate((np.repeat(1, 100), np.repeat(2, 50),\n",
    "                                np.repeat(5, 20), np.repeat(10, 20), np.repeat(20, 25),\n",
    "                                   np.repeat(50, 20), np.repeat(100,40),\n",
    "                                np.repeat(200,20), np.repeat(500, 10),\n",
    "                                   np.repeat(500,70))) # full 50000\n",
    "\n",
    "    idx = np.cumsum(eval_freq)\n",
    "    return dataset, dataset_test, idx\n",
    "\n",
    "def get_cifar_path(args):\n",
    "    path_root= f\"/Users/victoriabarenne/{args.run}/{args.dataset}\"\n",
    "    if args.algorithm ==\"adpc\":\n",
    "        run_path= f\"{path_root}/{args.n_epochs}_4_{args.tsh}_{args.hard_thresholding}_gamma{args.gamma}_{args.reduction_method}_{args.sd}\"\n",
    "    elif args.algorithm ==\"partialadpc\":\n",
    "        run_path= f\"{path_root}/{args.n_epochs}_4_{args.tsh}_{args.hard_thresholding}_gamma{args.gamma}_{args.reduction_method}_{args.sd}\"\n",
    "    elif args.algorithm in [\"benchmark\", \"random\", \"full\"]:\n",
    "        run_path= f\"{path_root}/{args.n_epochs}_{args.sd}\"\n",
    "    elif args.algorithm == \"pc\":\n",
    "        run_path= f\"{path_root}/{args.n_epochs}_{args.tsh}_{args.sd}\"\n",
    "    elif args.algorithm == \"coverpc\":\n",
    "        run_path= f\"{path_root}/{args.n_epochs}_4_{args.tsh}_{args.hard_thresholding}_eps{args.eps}_cover{args.cover_threshold}_{args.sd}\"\n",
    "    return run_path\n",
    "\n",
    "def fetching_run(args):\n",
    "    run_path= get_cifar_path(args)\n",
    "    assert(args.algorithm in [\"full\", \"random\", \"pc\", \"adpc\", \"partialadpc\", \"coverpc\"])\n",
    "    if args.algorithm==\"full\":\n",
    "        scores = pd.read_csv(run_path + f\"/full.csv\", index_col=0)[f\"full_scores\"].to_numpy()\n",
    "        queries, radiuses, degrees, options, covers = None, None, None, None, None\n",
    "    else:\n",
    "        scores = pd.read_csv(run_path + f\"/{args.algorithm}_scores.csv\", index_col=0)[f\"{args.algorithm}_scores\"].to_numpy()\n",
    "        queries = pd.read_csv(run_path + f\"/{args.algorithm}_queries.csv\", index_col=0)[f\"{args.algorithm}_queries\"].to_numpy()\n",
    "        if args.algorithm in [\"pc\", \"adpc\", \"partialadpc\", \"coverpc\"]:\n",
    "            radiuses= np.load(f'{run_path}/{args.algorithm}_radiuses.npy')\n",
    "            degrees = pd.read_csv(run_path + f\"/{args.algorithm}_degrees.csv\", index_col=0)[f\"{args.algorithm}_degrees\"].to_numpy()\n",
    "            options = pd.read_csv(run_path + f\"/{args.algorithm}_degrees.csv\", index_col=0)[f\"{args.algorithm}_options\"].to_numpy()\n",
    "            covers = pd.read_csv(run_path + f\"/{args.algorithm}_covers.csv\", index_col=0)[f\"{args.algorithm}_covers\"].to_numpy()\n",
    "        else:\n",
    "            radiuses, degrees, options, covers= None, None, None, None\n",
    "\n",
    "    return scores, queries, radiuses, degrees, options, covers\n",
    "\n",
    "def fetching_aggregated_run(args, n_seeds=5):\n",
    "    _,_,idx= get_cifar_data(args)\n",
    "    n_saves= len(idx)\n",
    "    n_queries= idx[-1]\n",
    "\n",
    "    scores, queries= np.empty(shape=(n_saves, n_seeds)), np.empty(shape=(n_queries, n_seeds))\n",
    "    if args.algorithm==\"adpc\":\n",
    "        radiuses= np.empty(shape=(50000, n_saves, n_seeds))\n",
    "    elif args.algorithm==\"pc\":\n",
    "        radiuses= np.empty(shape=(n_seeds,))\n",
    "    elif args.algorithm==\"coverpc\":\n",
    "        radiuses= np.empty(shape=(n_saves,n_seeds))\n",
    "    else:\n",
    "        radiuses= None\n",
    "    degrees, options= np.empty(shape= (n_queries, n_seeds)), np.empty(shape= (n_queries, n_seeds))\n",
    "    covers= np.empty(shape=(n_saves, n_seeds))\n",
    "    for sd in range(n_seeds):\n",
    "        args.sd=sd+1\n",
    "        sco, que, rad, deg, opt, cov= fetching_run(args)\n",
    "        scores[:,sd] = sco[:n_saves]\n",
    "        if args.algorithm!=\"full\":\n",
    "            queries[:,sd]= que[:n_queries]\n",
    "        if args.algorithm in [\"adpc\", \"pc\", \"coverpc\"]:\n",
    "            degrees[:,sd], options[:,sd], covers[:,sd] = deg[:n_queries], opt[:n_queries], cov[:n_saves]\n",
    "            if args.algorithm ==\"adpc\":\n",
    "                radiuses[:,:,sd]= rad[:,:n_saves]\n",
    "            elif args.algorithm==\"pc\":\n",
    "                radiuses[sd]= rad\n",
    "            elif args.algorithm==\"coverpc\":\n",
    "                radiuses[:,sd]= rad[:n_saves]\n",
    "    return scores, queries, radiuses, degrees, options, covers\n"
   ],
   "metadata": {
    "collapsed": false
   }
  },
  {
   "cell_type": "code",
   "execution_count": 6,
   "outputs": [],
   "source": [
    "def get_ci(y, n_seeds, confidence=0.95):\n",
    "    t_value = scipy.stats.t.ppf((1 + confidence) / 2.0, df=n_seeds - 1)\n",
    "    sd = np.std(y, axis=-1, ddof=1)\n",
    "    se = sd / np.sqrt(n_seeds)\n",
    "\n",
    "    ci_low = y.mean(-1) - t_value * se\n",
    "    ci_up = y.mean(-1) + t_value * se\n",
    "\n",
    "    return y.mean(-1), ci_low, ci_up, t_value*se\n"
   ],
   "metadata": {
    "collapsed": false
   }
  },
  {
   "cell_type": "code",
   "execution_count": 7,
   "outputs": [],
   "source": [
    "def add_score_line(args, label, n_seeds= 5, color=None, type=\"scores\", confidence=0.95):\n",
    "    scores, _, radiuses, degrees, options, covers= fetching_aggregated_run(args, n_seeds=n_seeds)\n",
    "    if type in [\"degrees\", \"options\"]:\n",
    "        y = degrees if type==\"degrees\" else options\n",
    "        idx = np.arange(1, len(degrees)+1)\n",
    "    elif type in [\"scores\", \"covers\"]:\n",
    "        _, _, idx= get_cifar_data(args)\n",
    "        y= scores if type==\"scores\" else covers\n",
    "\n",
    "    mean, ci_low, ci_up, _ = get_ci(y, n_seeds=n_seeds, confidence=confidence)\n",
    "\n",
    "    sns.lineplot(x=idx, y=mean, label= label, color=color, linewidth= 2)\n",
    "    plt.fill_between(idx, ci_low, ci_up, alpha=0.5, color=color)"
   ],
   "metadata": {
    "collapsed": false
   }
  },
  {
   "cell_type": "code",
   "execution_count": 8,
   "outputs": [],
   "source": [
    "def add_table_line(args, label, indices, n_seeds=5, confidence=0.95):\n",
    "    scores, _, _, _, _, _= fetching_aggregated_run(args, n_seeds=n_seeds)\n",
    "    means, _, _, cis_length= get_ci(scores, n_seeds= n_seeds, confidence=confidence)\n",
    "    means, cis_length= means[indices], cis_length[indices]\n",
    "\n",
    "    row= []\n",
    "    row.append(label)\n",
    "    for i, mean in enumerate(means):\n",
    "        row.append(f\"{round(mean,4)}(+-{round(cis_length[i],4)})\")\n",
    "\n",
    "    return row\n",
    "\n",
    "def plot_scores_table(dataset, n_epochs, arguments:np.array, labels:np.array, percentages=None):\n",
    "    args= pd.Series({\"dataset\": dataset, \"n_epochs\": n_epochs, \"budget\":\"low\"})\n",
    "    if percentages is None:\n",
    "        percentages= [0.01, 0.02, 0.05, 0.1, 0.14, 0.2, 0.3] if dataset==\"cifar10\" else [0.01, 0.05, 0.1, 0.2, 0.3, 0.4, 0.5]\n",
    "\n",
    "    dataset, _, idx= get_cifar_data(args)\n",
    "    indices, field_names = [], [\"Active learning method\"]\n",
    "    for perc in percentages:\n",
    "        indices.append(np.where(idx==int(perc*dataset.n_points))[0].item())\n",
    "        field_names.append(f\"{round(perc*100, 2)}%\")\n",
    "\n",
    "    x = PrettyTable()\n",
    "    x.field_names= field_names\n",
    "    for i in range(len(labels)):\n",
    "        row= add_table_line(arguments[i], labels[i], indices, n_seeds=5)\n",
    "        x.add_row(row)\n",
    "    return x\n"
   ],
   "metadata": {
    "collapsed": false
   }
  },
  {
   "cell_type": "code",
   "execution_count": 9,
   "outputs": [],
   "source": [
    "args= pd.Series({\n",
    "    \"dataset\":\"cifar10\",\n",
    "    \"separable\":\"not\",\n",
    "    \"algorithm\":\"coverpc\",\n",
    "    \"sd\":1,\n",
    "    \"gamma\":0.5,\n",
    "    \"tsh\":0.25,\n",
    "    \"hard_thresholding\":\"False\",\n",
    "    \"running_cluster\":\"False\",\n",
    "    \"run\":\"thesis_experiments/coverpc_runs\",\n",
    "    \"budget\":\"low\",\n",
    "    \"n_epochs\":1000,\n",
    "    \"n_points\":1000,\n",
    "    \"std\":0.5,\n",
    "    \"eps\":0.9,\n",
    "    \"cover_threshold\":0.5,\n",
    "    \"reduction_method\": \"pessimistic\",\n",
    "    })\n"
   ],
   "metadata": {
    "collapsed": false
   }
  },
  {
   "cell_type": "markdown",
   "source": [
    "## Coverpc Runs"
   ],
   "metadata": {
    "collapsed": false
   }
  },
  {
   "cell_type": "code",
   "execution_count": 55,
   "outputs": [],
   "source": [
    "def plot_coverpc_runs(args, n_epochs, type=\"scores\", save=False, zoom=False):\n",
    "    args.n_epochs=n_epochs\n",
    "    args_coverpc, args_pc= args.copy(), args.copy()\n",
    "    args_coverpc.algorithm, args_coverpc.hardthresholding, args_coverpc.tsh, args_coverpc.run= \"coverpc\", \"False\", 0.25, \"thesis_experiments/coverpc_runs\"\n",
    "    args_pc.algorithm, args_pc.tsh, args_pc.run= \"pc\", 0.95, \"thesis_experiments/pc_runs\"\n",
    "    cmap=matplotlib.colormaps[\"Set2\"]\n",
    "    if zoom:\n",
    "        save_root = \"/Users/victoriabarenne/thesis_plots/cifar_coverpc/zoom/\"\n",
    "    else:\n",
    "        save_root = \"/Users/victoriabarenne/thesis_plots/cifar_coverpc/\"\n",
    "    location = {\"scores\": \"lower right\",\n",
    "        \"covers\": \"upper left\",\n",
    "        \"degrees\": \"upper right\",\n",
    "        \"options\": \"upper left\"}\n",
    "    ylabel= {\"scores\": \"Accuracy\",\n",
    "              \"covers\": \"Coverage\",\n",
    "             \"degrees\": \"Out degree of the selected query\",\n",
    "             \"options\": \"Number of options with same out degree\"}\n",
    "    colors= [cmap.colors[2], cmap.colors[4], cmap.colors[5]]\n",
    "    for cover_threshold in [0.3, 0.4, 0.5]:\n",
    "        args_coverpc.cover_threshold=cover_threshold\n",
    "        add_score_line(args_pc, \"PC\", type=type, color= cmap.colors[3])\n",
    "        i=0\n",
    "        for eps in [0.7, 0.8, 0.9]:\n",
    "            args.eps= eps\n",
    "            add_score_line(args_coverpc, f\"Cover {cover_threshold} and eps {eps}\", type=type, color=colors[i])\n",
    "            i+=1\n",
    "\n",
    "        plt.legend(loc=location[type])\n",
    "        plt.xlabel(\"Number of queries\")\n",
    "        plt.ylabel(ylabel[type])\n",
    "\n",
    "        if type==\"scores\":\n",
    "            if zoom:\n",
    "                plt.xlim(500, 15000)\n",
    "                (ymin, ymax)= (0.6, 0.9)\n",
    "                plt.ylim(ymin, ymax)\n",
    "                plt.xscale(\"log\")\n",
    "            else:\n",
    "                (ymin, ymax)= (0, 0.9)\n",
    "                plt.ylim(ymin,ymax)\n",
    "                plt.xscale(\"log\")\n",
    "        elif type==\"covers\":\n",
    "            (ymin, ymax)= (0, 0.8)\n",
    "            plt.ylim(ymin,ymax)\n",
    "        elif type==\"degrees\":\n",
    "            (ymin, ymax)= (0, 40)\n",
    "            plt.ylim(ymin, ymax)\n",
    "        elif type==\"options\":\n",
    "            plt.ylim(0)\n",
    "\n",
    "        if save:\n",
    "            plt.savefig(save_root + f\"{args.n_epochs}_cover_threshold{cover_threshold}_{type}.png\")\n",
    "            plt.close()\n",
    "        else:\n",
    "            plt.title(f\"{args.n_epochs}epochs_cover_threshold{cover_threshold}_{type}\")\n",
    "            plt.show()\n",
    "\n",
    "    add_score_line(args_pc, \"PC\", type=type, color= cmap.colors[3])\n",
    "    i=0\n",
    "    args_coverpc.eps=0.9\n",
    "    for cover_threshold in [0.3, 0.4, 0.5]:\n",
    "        args_coverpc.cover_threshold=cover_threshold\n",
    "        add_score_line(args_coverpc, f\"Cover {cover_threshold} and eps {eps}\", type=type, color=colors[i])\n",
    "        i+=1\n",
    "    plt.legend(loc=location[type])\n",
    "    plt.xlabel(\"Number of queries\")\n",
    "    plt.ylabel(ylabel[type])\n",
    "\n",
    "    if type==\"scores\":\n",
    "        if zoom:\n",
    "            plt.xlim(500, 15000)\n",
    "            (ymin, ymax)= (0.6, 0.9)\n",
    "            plt.ylim(ymin, ymax)\n",
    "            plt.xscale(\"log\")\n",
    "        else:\n",
    "            (ymin, ymax)= (0, 0.9)\n",
    "            plt.ylim(ymin,ymax)\n",
    "            plt.xscale(\"log\")\n",
    "    elif type==\"covers\":\n",
    "        (ymin, ymax)= (0, 0.8)\n",
    "        plt.ylim(ymin,ymax)\n",
    "    elif type==\"degrees\":\n",
    "        (ymin, ymax)= (0, 40)\n",
    "        plt.ylim(ymin, ymax)\n",
    "    elif type==\"options\":\n",
    "        plt.ylim(0)\n",
    "\n",
    "    if save:\n",
    "        plt.savefig(save_root + f\"{args.n_epochs}_eps{eps}_{type}.png\")\n",
    "        plt.close()\n",
    "    else:\n",
    "        plt.title(f\"{args.n_epochs}epochs_eps{eps}_{type}\")\n",
    "        plt.show()\n",
    "\n"
   ],
   "metadata": {
    "collapsed": false
   }
  },
  {
   "cell_type": "code",
   "execution_count": null,
   "outputs": [],
   "source": [
    "save= False\n",
    "zoom= False\n",
    "args.dataset==\"cifar10\"\n",
    "# for type in [\"scores\", \"covers\", \"degrees\", \"options\"]:\n",
    "for type in [\"scores\"]:\n",
    "    for n_epochs in [100,200,400,1000]:\n",
    "        plot_coverpc_runs(args, n_epochs, type=type, save=save, zoom=zoom)"
   ],
   "metadata": {
    "collapsed": false,
    "pycharm": {
     "is_executing": true
    }
   }
  },
  {
   "cell_type": "markdown",
   "source": [
    "## Kmeans radiuses vs True radiuses"
   ],
   "metadata": {
    "collapsed": false
   }
  },
  {
   "cell_type": "code",
   "execution_count": null,
   "outputs": [],
   "source": [
    "from clustering import MyKMeans\n",
    "from utils.hyperparameters import get_init_radiuses, floor_twodecimals\n",
    "\n",
    "def plot_pc_radiuses(args, oracle=False, save_path=\"/Users/victoriabarenne/thesis_plots/kmeans_radiuses\"):\n",
    "    if not os.path.exists(f\"{save_path}/{args.dataset}\"):\n",
    "        os.makedirs(f\"{save_path}/{args.dataset}\")\n",
    "\n",
    "    dataset, dataset_test, eval_points = get_cifar_data(args)\n",
    "\n",
    "    if args.sd is not None:\n",
    "        np.random.seed(args.sd)\n",
    "    n_classes = len(np.unique(dataset.y))\n",
    "    if oracle:\n",
    "        pseudo_labels= dataset.y\n",
    "    else:\n",
    "        clustering = MyKMeans(dataset, n_classes)\n",
    "        pseudo_labels = clustering.pseudo_labels\n",
    "\n",
    "    rad, radiuses = get_init_radiuses(0.95, dataset, pseudo_labels)\n",
    "    rad25= floor_twodecimals(np.quantile(radiuses, 1-0.25))\n",
    "    print(rad, rad25)\n",
    "    #histograms\n",
    "    fig, ax = plt.subplots()\n",
    "    if args.dataset== \"cifar10\":\n",
    "        ax.set_xlim((0, 1.2))\n",
    "        ax.set_ylim((0, 0.3))\n",
    "    sns.histplot(x=radiuses, stat=\"probability\", bins=15)\n",
    "    ax.set_xlabel(\"Radius\")\n",
    "    ax.set_ylabel(\"Probability\")\n",
    "    ax.axvline(rad, color='r', linestyle='dashed', linewidth=1)\n",
    "    ax.axvline(rad25, color='r', linestyle='dashed', linewidth=1)\n",
    "\n",
    "    ax.text(rad + 0.01, 0.28, f\"{rad}\", size=15, alpha=1, color='r')\n",
    "    ax.text(rad25 + 0.01, 0.28, f\"{rad25}\", size=15, alpha=1, color='r')\n",
    "    if save:\n",
    "        plt.savefig(f'{save_path}/{args.dataset}/{args.n_epochs}epochs_{oracle}.png')\n",
    "        plt.close()\n",
    "    else:\n",
    "        plt.show()\n",
    "        plt.title(f'{args.dataset} {args.n_epochs}epochs {oracle}')\n"
   ],
   "metadata": {
    "collapsed": false
   }
  },
  {
   "cell_type": "code",
   "execution_count": null,
   "outputs": [],
   "source": [
    "for oracle in [True, False]:\n",
    "    for n_epochs in [100, 200, 400, 1000]:\n",
    "        args.n_epochs= n_epochs\n",
    "        plot_pc_radiuses(args, oracle=oracle)"
   ],
   "metadata": {
    "collapsed": false,
    "pycharm": {
     "is_executing": true
    }
   }
  },
  {
   "cell_type": "markdown",
   "source": [
    "## Gamma Runs\n"
   ],
   "metadata": {
    "collapsed": false
   }
  },
  {
   "cell_type": "code",
   "execution_count": 58,
   "outputs": [],
   "source": [
    "def plot_gamma_runs(args, n_epochs, type=\"scores\", save=False, figsize= None, save_root= \"/Users/victoriabarenne/thesis_plots/cifar_gamma/\"):\n",
    "    args.n_epochs, args.dataset, args.gamma, args.hard_thresholding = n_epochs, \"cifar10\", 0.5, \"False\"\n",
    "    args_adpc, args_pc= args.copy(), args.copy()\n",
    "    args_adpc.algorithm, args_adpc.tsh, args_adpc.hard_thresholding, args_adpc.run= \"adpc\", 0.25, \"True\", \"thesis_experiments/adpc_runs\"\n",
    "    args_gamma = args_adpc.copy()\n",
    "    args_gamma.hard_thresholding, args_gamma.run = \"False\", \"thesis_experiments/gamma_runs\"\n",
    "    args_pc.algorithm, args_pc.tsh, args_pc.run= \"pc\", 0.95, \"thesis_experiments/pc_runs\"\n",
    "    cmap=matplotlib.colormaps[\"Set2\"]\n",
    "\n",
    "    if figsize is not None:\n",
    "        plt.figure(figsize=figsize) # for the extra zoom\n",
    "\n",
    "    add_score_line(args_adpc, \"AdaptivePC\", type=type, color= cmap.colors[2])\n",
    "    args_adpc.hard_thresholding= False\n",
    "    add_score_line(args_adpc, \"AdaptivePC without hard thresholding\", type=type, color= cmap.colors[1])\n",
    "    # add_score_line(args_pc, \"PC\", type=type, color= cmap.colors[3])\n",
    "    i=3\n",
    "    for gamma in [0.125, 0.25, 0.325]:\n",
    "        args_gamma.gamma=gamma\n",
    "        add_score_line(args_gamma, f\"Adaptive PC with gamma {args_gamma.gamma}\", type=type, color=cmap.colors[i])\n",
    "        i+=1\n",
    "    location = {\"scores\": \"lower right\",\n",
    "                \"covers\": \"upper left\",\n",
    "                \"degrees\": \"upper right\",\n",
    "                \"options\": \"upper left\"}\n",
    "    ylabel= {\"scores\": \"Accuracy\",\n",
    "              \"covers\": \"Coverage\",\n",
    "             \"degrees\": \"Out degree of the selected query\",\n",
    "             \"options\": \"Number of options with same out degree\"}\n",
    "\n",
    "    plt.legend(loc=location[type])\n",
    "    plt.xlabel(\"Number of queries\")\n",
    "    plt.ylabel(ylabel[type])\n",
    "    if type in [\"scores\", \"covers\"] :\n",
    "        (ymin, ymax) = (0.1, 0.9) if type==\"scores\" else (0, 0.7)\n",
    "        # (ymin, ymax) = (0.1, 0.75) if type==\"scores\" else (0, 0.55)\n",
    "        plt.ylim(ymin, ymax)\n",
    "        plt.xscale(\"log\")\n",
    "    elif type==\"options\":\n",
    "        plt.ylim(0)\n",
    "    elif type==\"degrees\":\n",
    "        plt.ylim(0)\n",
    "\n",
    "    if save:\n",
    "        plt.savefig(save_root + f\"{args.n_epochs}_{type}.png\")\n",
    "        plt.close()\n",
    "    else:\n",
    "        plt.title(f\"{args.n_epochs}_{type}\")\n",
    "        plt.show()\n",
    "\n"
   ],
   "metadata": {
    "collapsed": false
   }
  },
  {
   "cell_type": "code",
   "execution_count": null,
   "outputs": [],
   "source": [
    "save= False\n",
    "type=\"scores\"\n",
    "n_epochs=100\n",
    "for type in [\"scores\", \"covers\", \"degrees\", \"options\"]:\n",
    "    figsize= (6, 5) if type in [\"scores\", \"covers\"] else (8,5)\n",
    "    for n_epochs in [100]:\n",
    "    # for n_epochs in [100, 400, 1000]:\n",
    "        plot_gamma_runs(args, n_epochs, type=type, save=save, figsize= figsize)"
   ],
   "metadata": {
    "collapsed": false,
    "pycharm": {
     "is_executing": true
    }
   }
  },
  {
   "cell_type": "markdown",
   "source": [
    "## Performance: Accuracy, Coverage, Degrees, Option"
   ],
   "metadata": {
    "collapsed": false
   }
  },
  {
   "cell_type": "code",
   "execution_count": 10,
   "outputs": [],
   "source": [
    "def plot_cifar_performance(args, dataset, n_epochs, type=\"degrees\", save=False, zoom=False):\n",
    "    args.dataset, args.n_epochs, args.hard_thresholding, args.budget, args.gamma, args.reduction_method, args.cover_threshold, args.eps, args.tsh= dataset, n_epochs, \"False\", \"low\", 0.5, \"pessimistic\", 0.5, 0.9, 0.25\n",
    "    args_adpc, args_coverpc, args_pc, args_random, args_full= args.copy(), args.copy(), args.copy(), args.copy(), args.copy()\n",
    "    args_adpc.algorithm, args_adpc.run, args_adpc.hard_thresholding= \"adpc\", \"thesis_experiments/adpc_runs\", \"True\"\n",
    "    args_coverpc.algorithm, args_coverpc.run= \"coverpc\", \"thesis_experiments/coverpc_runs\"\n",
    "    args_pc.algorithm, args_pc.run, args_pc.tsh= \"pc\", \"thesis_experiments/pc_runs\", 0.95\n",
    "    args_random.algorithm, args_random.run= \"random\", \"thesis_experiments/benchmark_runs\"\n",
    "    args_full.algorithm, args_full.run= \"full\", \"thesis_experiments/benchmark_runs\"\n",
    "\n",
    "    # plt.figure(figsize=(8,3)) # for the extra zoom\n",
    "\n",
    "    cmap=matplotlib.colormaps[\"Set2\"]\n",
    "    if zoom:\n",
    "        save_root = f\"/Users/victoriabarenne/thesis_plots/cifar_performance/zoom/\"\n",
    "    else:\n",
    "        save_root = f\"/Users/victoriabarenne/thesis_plots/cifar_performance/\"\n",
    "\n",
    "    add_score_line(args_adpc, \"Adaptive PC\", type=type, color=cmap.colors[2])\n",
    "    add_score_line(args_pc, \"PC\", type=type, color=cmap.colors[3])\n",
    "    add_score_line(args_coverpc, \"Dynamic PC\", type=type, color=cmap.colors[4])\n",
    "    if type==\"scores\":\n",
    "        add_score_line(args_random, \"Random\", type=type, color=cmap.colors[-2])\n",
    "        add_score_line(args_full, \"Oracle\", type=type, color= cmap.colors[-1])\n",
    "    if type in [\"scores\", \"covers\"] and not zoom:\n",
    "        plt.xscale(\"log\")\n",
    "\n",
    "    location= {\"scores\": \"lower right\",\n",
    "              \"covers\": \"upper left\",\n",
    "               \"degrees\": \"upper right\",\n",
    "               \"options\": \"upper left\"}\n",
    "    ylabel= {\"scores\": \"Accuracy\",\n",
    "              \"covers\": \"Coverage\",\n",
    "             \"degrees\": \"Out degree of the selected query\",\n",
    "             \"options\": \"Number of options with same out degree\"}\n",
    "\n",
    "    plt.legend(loc=location[type])\n",
    "    plt.xlabel(\"Number of queries\")\n",
    "    plt.ylabel(ylabel[type])\n",
    "\n",
    "    if type==\"scores\":\n",
    "        (ymin, ymax)= (0.0, 0.9) if dataset==\"cifar10\" else (0.0, 0.6)\n",
    "    elif type==\"covers\":\n",
    "        ymax= 0.8 if dataset==\"cifar10\" else 0.75\n",
    "        ymin=0.0\n",
    "    elif type==\"degrees\":\n",
    "        ymax= 40 if dataset==\"cifar10\" else 30\n",
    "        ymin=0\n",
    "\n",
    "\n",
    "    if zoom and type in [\"scores\"]:\n",
    "        plt.xlim(3000, 15000)\n",
    "        (ymin, ymax)=(0.6, 0.9) if dataset==\"cifar10\" else (0.25, 0.6)\n",
    "        plt.ylim(ymin, ymax)\n",
    "    elif type in [\"scores\", \"covers\", \"degrees\"]:\n",
    "        plt.ylim(ymin,ymax)\n",
    "    elif type==\"options\":\n",
    "        plt.ylim(0)\n",
    "\n",
    "\n",
    "    if save:\n",
    "        plt.savefig(save_root + f\"{args.n_epochs}_{args.dataset}_{type}.png\")\n",
    "        plt.close()\n",
    "    else:\n",
    "        plt.title(f\"{args.n_epochs}epochs_{type}\")\n",
    "        plt.show()"
   ],
   "metadata": {
    "collapsed": false
   }
  },
  {
   "cell_type": "code",
   "execution_count": 14,
   "outputs": [],
   "source": [
    "save=True\n",
    "zoom= False\n",
    "type=\"covers\"\n",
    "\n",
    "for dataset in [\"cifar10\", \"cifar100\"]:\n",
    "    for n_epochs in [100,200,400,1000]:\n",
    "        plot_cifar_performance(args, dataset, n_epochs, type=type, save=save, zoom=zoom)"
   ],
   "metadata": {
    "collapsed": false
   }
  },
  {
   "cell_type": "markdown",
   "source": [
    "## Accuracy tables for CIFAR10 and CIFAR100\n"
   ],
   "metadata": {
    "collapsed": false
   }
  },
  {
   "cell_type": "code",
   "execution_count": 61,
   "outputs": [],
   "source": [
    "from prettytable import PrettyTable\n",
    "n_points= 50000\n",
    "dataset= \"cifar10\"\n",
    "n_epochs = 100\n",
    "\n",
    "def plot_scores_table_here(args, n_epochs, dataset):\n",
    "    percentages= [0.01, 0.02, 0.05, 0.1, 0.14, 0.2, 0.3] if dataset==\"cifar10\" else [0.01, 0.05, 0.1, 0.2, 0.3, 0.4, 0.5]\n",
    "\n",
    "    args.dataset, args.n_epochs, args.hard_thresholding, args.budget, args.gamma, args.reduction_method, args.cover_threshold, args.eps, args.tsh= dataset, n_epochs, \"False\", \"low\", 0.5, \"pessimistic\", 0.5, 0.9, 0.25\n",
    "    args_adpc, args_coverpc, args_pc, args_random= args.copy(), args.copy(), args.copy(), args.copy()\n",
    "    args_adpc.algorithm, args_adpc.run, args_adpc.hard_thresholding= \"adpc\", \"thesis_experiments/adpc_runs\", \"True\"\n",
    "    args_coverpc.algorithm, args_coverpc.run= \"coverpc\", \"thesis_experiments/coverpc_runs\"\n",
    "    args_pc.algorithm, args_pc.run, args_pc.tsh= \"pc\", \"thesis_experiments/pc_runs\", 0.95\n",
    "    args_random.algorithm, args_random.run= \"random\", \"thesis_experiments/benchmark_runs\"\n",
    "    _, _, idx= get_cifar_data(args)\n",
    "    indices = []\n",
    "    for perc in percentages:\n",
    "        indices.append(np.where(idx==int(perc*n_points))[0].item())\n",
    "    arguments= [args_adpc, args_coverpc, args_pc, args_random]\n",
    "    labels= [\"AdaptivePC\", \"DynamicPC\", \"PC\", \"random\"]\n",
    "    x = PrettyTable()\n",
    "    x.field_names = [\"Active learning method\", \"1%\", \"2%\", \"5%\", \"10%\", \"14%\", \"20%\", \"30%\"] if dataset==\"cifar10\" else [\"Active learning method\", \"1%\", \"5%\", \"10%\", \"20%\", \"30%\", \"40%\", \"50%\"]\n",
    "    for i in range(4):\n",
    "        row= add_table_line(arguments[i], labels[i], indices, n_seeds=5)\n",
    "        x.add_row(row)\n",
    "    return x\n"
   ],
   "metadata": {
    "collapsed": false
   }
  },
  {
   "cell_type": "code",
   "execution_count": 93,
   "outputs": [
    {
     "name": "stdout",
     "output_type": "stream",
     "text": [
      "+------------------------+------------------+------------------+------------------+------------------+------------------+------------------+------------------+\n",
      "| Active learning method |        1%        |        2%        |        5%        |       10%        |       14%        |       20%        |       30%        |\n",
      "+------------------------+------------------+------------------+------------------+------------------+------------------+------------------+------------------+\n",
      "|       AdaptivePC       | 0.6646(+-0.0019) | 0.6693(+-0.0022) | 0.6857(+-0.0014) | 0.6977(+-0.0015) | 0.7038(+-0.0018) | 0.7128(+-0.0022) | 0.7231(+-0.0012) |\n",
      "|       DynamicPC        | 0.6556(+-0.003)  | 0.6732(+-0.003)  | 0.6881(+-0.0031) | 0.7036(+-0.0031) | 0.7104(+-0.0015) | 0.7142(+-0.0024) | 0.7176(+-0.0028) |\n",
      "|           PC           | 0.6388(+-0.0031) | 0.6642(+-0.0016) | 0.6835(+-0.0017) | 0.698(+-0.0016)  | 0.7004(+-0.0023) | 0.709(+-0.0014)  | 0.7148(+-0.0011) |\n",
      "|         random         | 0.6056(+-0.002)  | 0.6322(+-0.0042) | 0.6607(+-0.0027) | 0.6799(+-0.0032) | 0.6899(+-0.0032) | 0.7002(+-0.0036) | 0.7114(+-0.0007) |\n",
      "+------------------------+------------------+------------------+------------------+------------------+------------------+------------------+------------------+\n"
     ]
    }
   ],
   "source": [
    "## OLD USING STD: DO NOT RERUN!!\n",
    "x= plot_scores_table(args, 100, \"cifar10\")\n",
    "print(x)"
   ],
   "metadata": {
    "collapsed": false
   }
  },
  {
   "cell_type": "code",
   "execution_count": 62,
   "outputs": [
    {
     "name": "stdout",
     "output_type": "stream",
     "text": [
      "+------------------------+------------------+------------------+------------------+------------------+------------------+------------------+------------------+\n",
      "| Active learning method |        1%        |        2%        |        5%        |       10%        |       14%        |       20%        |       30%        |\n",
      "+------------------------+------------------+------------------+------------------+------------------+------------------+------------------+------------------+\n",
      "|       AdaptivePC       | 0.6646(+-0.0026) | 0.6693(+-0.003)  | 0.6857(+-0.0019) | 0.6977(+-0.0021) | 0.7038(+-0.0025) | 0.7128(+-0.0031) | 0.7231(+-0.0017) |\n",
      "|       DynamicPC        | 0.6556(+-0.0042) | 0.6732(+-0.0041) | 0.6881(+-0.0043) | 0.7036(+-0.0043) | 0.7104(+-0.0021) | 0.7142(+-0.0033) | 0.7176(+-0.0039) |\n",
      "|           PC           | 0.6388(+-0.0043) | 0.6642(+-0.0023) | 0.6835(+-0.0023) | 0.698(+-0.0023)  | 0.7004(+-0.0032) |  0.709(+-0.002)  | 0.7148(+-0.0015) |\n",
      "|         random         | 0.6056(+-0.0028) | 0.6322(+-0.0058) | 0.6607(+-0.0038) | 0.6799(+-0.0045) | 0.6899(+-0.0045) | 0.7002(+-0.005)  | 0.7114(+-0.001)  |\n",
      "+------------------------+------------------+------------------+------------------+------------------+------------------+------------------+------------------+\n"
     ]
    }
   ],
   "source": [
    "x= plot_scores_table_here(args, 100, \"cifar10\")\n",
    "print(x)"
   ],
   "metadata": {
    "collapsed": false
   }
  },
  {
   "cell_type": "markdown",
   "source": [
    "## PC for different radiuses"
   ],
   "metadata": {
    "collapsed": false
   }
  },
  {
   "cell_type": "code",
   "execution_count": 99,
   "outputs": [],
   "source": [
    "def plot_pc_performance(args, n_epochs, type=\"degrees\", save=False, zoom=False, figsize=None, get_scores_table= False):\n",
    "    args.dataset, args.n_epochs, args.hard_thresholding, args.budget, args.gamma, args.reduction_method, args.cover_threshold, args.eps, args.tsh= \"cifar10\", n_epochs, \"False\", \"low\", 0.5, \"pessimistic\", 0.5, 0.9, 0.95\n",
    "    args_pc, args_random= args.copy(), args.copy()\n",
    "    args_pc.algorithm, args_pc.run, args_pc.tsh= \"pc\", \"thesis_experiments/pc_runs\", 0.95\n",
    "    args_random.algorithm, args_random.run= \"random\", \"thesis_experiments/benchmark_runs\"\n",
    "    if figsize is not None:\n",
    "        plt.figure(figsize=figsize) # for the extra zoom\n",
    "\n",
    "    cmap=matplotlib.colormaps[\"Set2\"]\n",
    "    if zoom:\n",
    "        save_root = f\"/Users/victoriabarenne/thesis_plots/cifar_pc/zoom/\"\n",
    "    else:\n",
    "        save_root = f\"/Users/victoriabarenne/thesis_plots/cifar_pc/\"\n",
    "\n",
    "    i=1\n",
    "    for tsh in [0.5, 0.75, 0.95, 0.25, 0.05]:\n",
    "        args_pc.tsh= tsh\n",
    "        add_score_line(args_pc, f\"PC with {args_pc.tsh} purity threshold\", type=type, color=cmap.colors[i])\n",
    "        i+=1\n",
    "    if type==\"scores\":\n",
    "        add_score_line(args_random, f\"Random\", type=type, color=cmap.colors[i])\n",
    "\n",
    "\n",
    "    if type in [\"scores\", \"covers\"] and not zoom:\n",
    "        plt.xscale(\"log\")\n",
    "\n",
    "    location= {\"scores\": \"lower right\",\n",
    "              \"covers\": \"upper left\",\n",
    "               \"degrees\": \"upper right\",\n",
    "               \"options\": \"upper left\"}\n",
    "    ylabel= {\"scores\": \"Accuracy\",\n",
    "              \"covers\": \"Coverage\",\n",
    "             \"degrees\": \"Out degree of the selected query\",\n",
    "             \"options\": \"Number of options with same out degree\"}\n",
    "\n",
    "    plt.legend(loc=location[type])\n",
    "    plt.xlabel(\"Number of queries\")\n",
    "    plt.ylabel(ylabel[type])\n",
    "\n",
    "    if zoom and type in [\"scores\"]:\n",
    "        (ymin, ymax)= (0.82, 0.9)\n",
    "        plt.xlim(3000, 15000)\n",
    "        plt.ylim(ymin, ymax)\n",
    "    elif type in [\"scores\", \"covers\", \"degrees\"]:\n",
    "        ymax={\"scores\":0.9, \"covers\":1.1, \"degrees\":40}\n",
    "        plt.ylim(0,ymax[type])\n",
    "    elif type==\"options\":\n",
    "        plt.ylim(0)\n",
    "\n",
    "\n",
    "    if save:\n",
    "        plt.savefig(save_root + f\"{args.n_epochs}_{args.dataset}_{type}.png\")\n",
    "        plt.close()\n",
    "    else:\n",
    "        plt.title(f\"{args.n_epochs}epochs_{type}\")\n",
    "        plt.show()\n",
    "\n",
    "    if get_scores_table:\n",
    "        arguments= [args_random]\n",
    "        labels= [\"Random\"]\n",
    "        for tsh in [0.5, 0.75, 0.95, 0.25, 0.05]:\n",
    "            args_pc.tsh= tsh\n",
    "            labels.append(f\"PC with purity threshold {args_pc.tsh}\")\n",
    "            arguments.append(args_pc.copy())\n",
    "        return plot_scores_table(\"cifar10\", n_epochs, arguments, labels, percentages=[0.0001, 0.001, 0.005, 0.01, 0.05, 0.3])"
   ],
   "metadata": {
    "collapsed": false
   }
  },
  {
   "cell_type": "code",
   "execution_count": 124,
   "outputs": [],
   "source": [
    "save= True\n",
    "zoom= False\n",
    "figsize= None\n",
    "type= \"covers\"\n",
    "for n_epochs in [100 , 1000]:\n",
    "    x= plot_pc_performance(args, n_epochs, type=type, save=save, zoom=zoom, figsize=figsize, get_scores_table= False)\n"
   ],
   "metadata": {
    "collapsed": false
   }
  },
  {
   "cell_type": "code",
   "execution_count": 101,
   "outputs": [
    {
     "data": {
      "text/plain": "+-------------------------------+------------------+------------------+------------------+------------------+------------------+------------------+\n|     Active learning method    |      0.01%       |       0.1%       |       0.5%       |       1.0%       |       5.0%       |      30.0%       |\n+-------------------------------+------------------+------------------+------------------+------------------+------------------+------------------+\n|             Random            | 0.2539(+-0.0911) | 0.6856(+-0.0368) | 0.7905(+-0.0088) | 0.8152(+-0.0058) | 0.8395(+-0.0022) | 0.8632(+-0.0025) |\n|  PC with purity threshold 0.5 |  0.4269(+-0.0)   | 0.8083(+-0.0007) | 0.8434(+-0.002)  | 0.8437(+-0.004)  | 0.8456(+-0.0007) | 0.8657(+-0.0023) |\n| PC with purity threshold 0.75 |  0.4277(+-0.0)   | 0.794(+-0.0002)  | 0.8479(+-0.0011) | 0.856(+-0.0015)  | 0.8544(+-0.0026) | 0.8625(+-0.0024) |\n| PC with purity threshold 0.95 |  0.3616(+-0.0)   | 0.6919(+-0.0007) | 0.829(+-0.0015)  | 0.8474(+-0.0019) | 0.8634(+-0.0026) | 0.8659(+-0.0038) |\n| PC with purity threshold 0.25 |  0.4253(+-0.0)   | 0.8225(+-0.0001) | 0.8343(+-0.0024) | 0.8354(+-0.0031) | 0.8368(+-0.003)  | 0.8635(+-0.0046) |\n| PC with purity threshold 0.05 |  0.4662(+-0.0)   | 0.7999(+-0.0017) | 0.8119(+-0.0011) | 0.8139(+-0.0038) | 0.8387(+-0.0032) | 0.8629(+-0.0023) |\n+-------------------------------+------------------+------------------+------------------+------------------+------------------+------------------+",
      "text/html": "<table>\n    <thead>\n        <tr>\n            <th>Active learning method</th>\n            <th>0.01%</th>\n            <th>0.1%</th>\n            <th>0.5%</th>\n            <th>1.0%</th>\n            <th>5.0%</th>\n            <th>30.0%</th>\n        </tr>\n    </thead>\n    <tbody>\n        <tr>\n            <td>Random</td>\n            <td>0.2539(+-0.0911)</td>\n            <td>0.6856(+-0.0368)</td>\n            <td>0.7905(+-0.0088)</td>\n            <td>0.8152(+-0.0058)</td>\n            <td>0.8395(+-0.0022)</td>\n            <td>0.8632(+-0.0025)</td>\n        </tr>\n        <tr>\n            <td>PC with purity threshold 0.5</td>\n            <td>0.4269(+-0.0)</td>\n            <td>0.8083(+-0.0007)</td>\n            <td>0.8434(+-0.002)</td>\n            <td>0.8437(+-0.004)</td>\n            <td>0.8456(+-0.0007)</td>\n            <td>0.8657(+-0.0023)</td>\n        </tr>\n        <tr>\n            <td>PC with purity threshold 0.75</td>\n            <td>0.4277(+-0.0)</td>\n            <td>0.794(+-0.0002)</td>\n            <td>0.8479(+-0.0011)</td>\n            <td>0.856(+-0.0015)</td>\n            <td>0.8544(+-0.0026)</td>\n            <td>0.8625(+-0.0024)</td>\n        </tr>\n        <tr>\n            <td>PC with purity threshold 0.95</td>\n            <td>0.3616(+-0.0)</td>\n            <td>0.6919(+-0.0007)</td>\n            <td>0.829(+-0.0015)</td>\n            <td>0.8474(+-0.0019)</td>\n            <td>0.8634(+-0.0026)</td>\n            <td>0.8659(+-0.0038)</td>\n        </tr>\n        <tr>\n            <td>PC with purity threshold 0.25</td>\n            <td>0.4253(+-0.0)</td>\n            <td>0.8225(+-0.0001)</td>\n            <td>0.8343(+-0.0024)</td>\n            <td>0.8354(+-0.0031)</td>\n            <td>0.8368(+-0.003)</td>\n            <td>0.8635(+-0.0046)</td>\n        </tr>\n        <tr>\n            <td>PC with purity threshold 0.05</td>\n            <td>0.4662(+-0.0)</td>\n            <td>0.7999(+-0.0017)</td>\n            <td>0.8119(+-0.0011)</td>\n            <td>0.8139(+-0.0038)</td>\n            <td>0.8387(+-0.0032)</td>\n            <td>0.8629(+-0.0023)</td>\n        </tr>\n    </tbody>\n</table>"
     },
     "execution_count": 101,
     "metadata": {},
     "output_type": "execute_result"
    }
   ],
   "source": [
    "x"
   ],
   "metadata": {
    "collapsed": false
   }
  },
  {
   "cell_type": "markdown",
   "source": [
    "## ADPC Hard-thresholding"
   ],
   "metadata": {
    "collapsed": false
   }
  },
  {
   "cell_type": "code",
   "execution_count": 140,
   "outputs": [],
   "source": [
    "def plot_hardthresholding_performance(args, n_epochs, type=\"scores\", save=False, zoom=False, figsize=None):\n",
    "    args.dataset, args.n_epochs, args.hard_thresholding, args.budget, args.gamma, args.reduction_method, args.cover_threshold, args.eps, args.tsh, args.algorithm, args.run= \"cifar10\", n_epochs, True, \"low\", 0.5, \"pessimistic\", 0.5, 0.9, 0.25,  \"adpc\", \"thesis_experiments/adpc_runs\"\n",
    "\n",
    "    args_pc, args_random= args.copy(), args.copy()\n",
    "    args_pc.algorithm, args_pc.tsh, args_pc.run= \"pc\", 0.95, \"thesis_experiments/pc_runs\"\n",
    "    args_random.algorithm, args_random.run= \"random\", \"thesis_experiments/benchmark_runs\"\n",
    "\n",
    "\n",
    "    if figsize is not None:\n",
    "        plt.figure(figsize=figsize) # for the extra zoom\n",
    "\n",
    "    cmap=matplotlib.colormaps[\"Set2\"]\n",
    "    if zoom:\n",
    "        save_root = f\"/Users/victoriabarenne/thesis_plots/hard_thresholding/zoom/\"\n",
    "    else:\n",
    "        save_root = f\"/Users/victoriabarenne/thesis_plots/hard_thresholding/\"\n",
    "\n",
    "\n",
    "    add_score_line(args, f\"AdaptivePC\", type=type, color=cmap.colors[2])\n",
    "    args.hard_thresholding= False\n",
    "    add_score_line(args, f\"AdaptivePC without hard thresholding\", type=type, color=cmap.colors[5])\n",
    "    add_score_line(args_pc, f\"PC\", type=type, color=cmap.colors[3])\n",
    "    if type==\"scores\"  :\n",
    "        add_score_line(args_random, f\"Random\", type=type, color=cmap.colors[6])\n",
    "\n",
    "    if type in [\"scores\", \"covers\"] and not zoom:\n",
    "        plt.xscale(\"log\")\n",
    "\n",
    "    location= {\"scores\": \"lower right\",\n",
    "              \"covers\": \"upper left\",\n",
    "               \"degrees\": \"upper right\",\n",
    "               \"options\": \"upper left\"}\n",
    "    ylabel= {\"scores\": \"Accuracy\",\n",
    "              \"covers\": \"Coverage\",\n",
    "             \"degrees\": \"Out degree of the selected query\",\n",
    "             \"options\": \"Number of options with same out degree\"}\n",
    "\n",
    "    plt.legend(loc=location[type])\n",
    "    plt.xlabel(\"Number of queries\")\n",
    "    plt.ylabel(ylabel[type])\n",
    "\n",
    "    if zoom and type in [\"scores\"]:\n",
    "        (ymin, ymax)= (0.82, 0.9)\n",
    "        plt.xlim(3000, 15000)\n",
    "        plt.ylim(ymin, ymax)\n",
    "    elif type in [\"scores\", \"covers\", \"degrees\"]:\n",
    "        ymax={\"scores\":0.9, \"covers\":1.1, \"degrees\":1500}\n",
    "        plt.ylim(0,ymax[type])\n",
    "    elif type==\"options\":\n",
    "        plt.ylim(0)\n",
    "\n",
    "\n",
    "\n",
    "    if save:\n",
    "        plt.savefig(save_root + f\"{args.n_epochs}_{args.dataset}_{type}.png\")\n",
    "        plt.close()\n",
    "    else:\n",
    "        plt.title(f\"{args.n_epochs}epochs_{type}\")\n",
    "        plt.show()\n"
   ],
   "metadata": {
    "collapsed": false
   }
  },
  {
   "cell_type": "code",
   "execution_count": 142,
   "outputs": [],
   "source": [
    "save= True\n",
    "type= \"degrees\"\n",
    "n_epochs=100\n",
    "for n_epochs in [100,200,400,1000]:\n",
    "    # for type in [\"scores\", \"covers\"]:\n",
    "    plot_hardthresholding_performance(args, n_epochs, type=type, save= save)"
   ],
   "metadata": {
    "collapsed": false
   }
  },
  {
   "cell_type": "code",
   "execution_count": 46,
   "outputs": [
    {
     "data": {
      "text/plain": "<Figure size 640x480 with 1 Axes>",
      "image/png": "[encoded data removed]"
     },
     "metadata": {},
     "output_type": "display_data"
    }
   ],
   "source": [
    "n_epochs= 1000\n",
    "save= False\n",
    "args.dataset, args.n_epochs, args.hard_thresholding, args.budget, args.gamma, args.reduction_method, args.cover_threshold, args.eps, args.tsh, args.algorithm, args.run= \"cifar10\", n_epochs, False, \"low\", 0.5, \"pessimistic\", 0.5, 0.9, 0.25,  \"adpc\", \"thesis_experiments/adpc_runs\"\n",
    "labels= [\"Mean\", \"Minimum\", \"Maximum\"]\n",
    "\n",
    "cmap2= matplotlib.colormaps[\"Set2\"].colors\n",
    "cmap2= [cmap2[1], cmap2[2], cmap2[0]]\n",
    "_, _, idx = get_cifar_data(args)\n",
    "\n",
    "scores, _, radiuses, degrees, options, covers= fetching_aggregated_run(args, n_seeds=5)\n",
    "radiuses_mean, radiuses_min, radiuses_max= radiuses.mean(0), radiuses.min(0), radiuses.max(0)\n",
    "\n",
    "for i, rads in enumerate([radiuses_mean, radiuses_min, radiuses_max]):\n",
    "    mean, ci_low, ci_up, _ = get_ci(rads, n_seeds=5, confidence=0.95)\n",
    "    sns.lineplot(x=idx, y=mean, label= labels[i], color=cmap2[i], linewidth= 2)\n",
    "    plt.fill_between(idx, ci_low, ci_up, alpha=0.5, color=cmap2[i])\n",
    "\n",
    "args.hard_thresholding= True\n",
    "scores, _, radiuses, degrees, options, covers= fetching_aggregated_run(args, n_seeds=5)\n",
    "radiuses_mean, radiuses_min, radiuses_max= radiuses.mean(0), radiuses.min(0), radiuses.max(0)\n",
    "for i, rads in enumerate([radiuses_mean, radiuses_min, radiuses_max]):\n",
    "    mean, ci_low, ci_up, _ = get_ci(rads, n_seeds=5, confidence=0.95)\n",
    "    sns.lineplot(x=idx, y=mean, color=cmap2[i], linewidth= 2, linestyle= \"dashed\")\n",
    "    plt.fill_between(idx, ci_low, ci_up, alpha=0.5, color=cmap2[i])\n",
    "plt.xscale(\"log\")\n",
    "#     add_score_line(args, \"\", n_seeds= 5, color=None, type=\"radiuses\", confidence=0.95)\n",
    "save_root = f\"/Users/victoriabarenne/thesis_plots/hard_thresholding/\"\n",
    "plt.savefig(save_root + f\"{args.n_epochs}_{args.dataset}_radiuses.png\")"
   ],
   "metadata": {
    "collapsed": false
   }
  },
  {
   "cell_type": "markdown",
   "source": [
    "## ADPC different thresholds\n"
   ],
   "metadata": {
    "collapsed": false
   }
  },
  {
   "cell_type": "code",
   "execution_count": 86,
   "outputs": [],
   "source": [
    "def plot_adpc_tsh(args, n_epochs, type=\"scores\", save=False, zoom=False, figsize=None):\n",
    "    args.dataset, args.n_epochs, args.hard_thresholding, args.budget, args.gamma, args.reduction_method, args.cover_threshold, args.eps, args.tsh, args.algorithm, args.run= \"cifar10\", n_epochs, True, \"low\", 0.5, \"pessimistic\", 0.5, 0.9, 0.25,  \"adpc\", \"thesis_experiments/adpc_runs\"\n",
    "\n",
    "    if figsize is not None:\n",
    "        plt.figure(figsize=figsize) # for the extra zoom\n",
    "\n",
    "    cmap=matplotlib.colormaps[\"Set2\"]\n",
    "    if zoom:\n",
    "        save_root = f\"/Users/victoriabarenne/thesis_plots/adpc_tsh/zoom?\"\n",
    "    else:\n",
    "        save_root = f\"/Users/victoriabarenne/thesis_plots/adpc_tsh/\"\n",
    "\n",
    "    add_score_line(args, f\"AdaptivePC\", type=type, color=cmap.colors[2])\n",
    "    args.algorithm, args.tsh, args.run= \"pc\", 0.95, \"thesis_experiments/pc_runs\"\n",
    "    add_score_line(args, f\"PC\", type=type, color=cmap.colors[3])\n",
    "    i=4\n",
    "    for tsh in [0.05, 0.5, 0.75]:\n",
    "        args.tsh=tsh\n",
    "        if i==6:\n",
    "            i=1\n",
    "        add_score_line(args, f\"AdaptivePC with purity threshold {args.tsh}\", type=type, color=cmap.colors[i])\n",
    "        i+=1\n",
    "\n",
    "    if type==\"scores\"  :\n",
    "        args.algorithm, args.run=\"random\", \"thesis_experiments/benchmark_runs/\"\n",
    "        add_score_line(args, f\"Random\", type=type, color=cmap.colors[6])\n",
    "        args.algorithm=\"full\"\n",
    "        add_score_line(args, f\"Oracle\", type=type, color=cmap.colors[7])\n",
    "\n",
    "    if type in [\"scores\", \"covers\"] and not zoom:\n",
    "        plt.xscale(\"log\")\n",
    "\n",
    "    location= {\"scores\": \"lower right\",\n",
    "              \"covers\": \"upper left\",\n",
    "               \"degrees\": \"upper right\",\n",
    "               \"options\": \"upper left\"}\n",
    "    ylabel= {\"scores\": \"Accuracy\",\n",
    "              \"covers\": \"Coverage\",\n",
    "             \"degrees\": \"Out degree of the selected query\",\n",
    "             \"options\": \"Number of options with same out degree\"}\n",
    "\n",
    "    plt.legend(loc=location[type])\n",
    "    plt.xlabel(\"Number of queries\")\n",
    "    plt.ylabel(ylabel[type])\n",
    "\n",
    "    if zoom and type in [\"scores\"]:\n",
    "        if n_epochs==1000:\n",
    "            (ymin, ymax)= (0.82, 0.9)\n",
    "        else:\n",
    "            (ymin, ymax)= (0.6, 0.76)\n",
    "        plt.xlim(3000, 15000)\n",
    "        plt.ylim(ymin, ymax)\n",
    "    elif type in [\"scores\", \"covers\", \"degrees\"]:\n",
    "        ymax={\"scores\":0.9, \"covers\":1.1, \"degrees\":40}\n",
    "        plt.ylim(0,ymax[type])\n",
    "    elif type==\"options\":\n",
    "        plt.ylim(0)\n",
    "\n",
    "    if save:\n",
    "        plt.savefig(save_root + f\"{args.n_epochs}_{args.dataset}_{type}.png\")\n",
    "        plt.close()\n",
    "    else:\n",
    "        plt.title(f\"{args.n_epochs}epochs_{type}\")\n",
    "        plt.show()\n"
   ],
   "metadata": {
    "collapsed": false
   }
  },
  {
   "cell_type": "code",
   "execution_count": 91,
   "outputs": [],
   "source": [
    "save= True\n",
    "type =\"scores\"\n",
    "n_epochs =100\n",
    "figsize=None\n",
    "for type in [\"covers\", \"degrees\", \"options\"]:\n",
    "    for n_epochs in [100,1000]:\n",
    "        plot_adpc_tsh(args, n_epochs, type=type, save=save, figsize=figsize, zoom=False)\n"
   ],
   "metadata": {
    "collapsed": false
   }
  },
  {
   "cell_type": "code",
   "execution_count": null,
   "outputs": [],
   "source": [],
   "metadata": {
    "collapsed": false
   }
  }
 ],
 "metadata": {
  "kernelspec": {
   "display_name": "Python 3",
   "language": "python",
   "name": "python3"
  },
  "language_info": {
   "codemirror_mode": {
    "name": "ipython",
    "version": 2
   },
   "file_extension": ".py",
   "mimetype": "text/x-python",
   "name": "python",
   "nbconvert_exporter": "python",
   "pygments_lexer": "ipython2",
   "version": "2.7.6"
  }
 },
 "nbformat": 4,
 "nbformat_minor": 0
}
